{
 "cells": [
  {
   "cell_type": "code",
   "execution_count": null,
   "metadata": {},
   "outputs": [],
   "source": [
    "\n",
    "from addins import *\n",
    "\n",
    "\n",
    "while 1:\n",
    "    if(thread2.is_alive() == False and thread3.is_alive() == False): \n",
    "        thread4 = threading.Thread(target=dothecamthing)\n",
    "        thread4.start()\n",
    "        thread4.join()\n",
    "        if myframe.status == 1:\n",
    "            thread2 = threading.Thread(target=jetbot_motion_center_x)\n",
    "            thread3 = threading.Thread(target=findminrow)\n",
    "            myobject.pos_x_px = myframe.color_x\n",
    "            myobject.pos_y_px = myframe.color_y\n",
    "            thread2.start()\n",
    "            thread3.start()\n",
    "    else:\n",
    "        myrobot.stop()"
   ]
  },
  {
   "cell_type": "code",
   "execution_count": null,
   "metadata": {},
   "outputs": [],
   "source": []
  }
 ],
 "metadata": {
  "kernelspec": {
   "display_name": "Python 3",
   "language": "python",
   "name": "python3"
  },
  "language_info": {
   "codemirror_mode": {
    "name": "ipython",
    "version": 3
   },
   "file_extension": ".py",
   "mimetype": "text/x-python",
   "name": "python",
   "nbconvert_exporter": "python",
   "pygments_lexer": "ipython3",
   "version": "3.10.11"
  },
  "orig_nbformat": 4
 },
 "nbformat": 4,
 "nbformat_minor": 2
}
